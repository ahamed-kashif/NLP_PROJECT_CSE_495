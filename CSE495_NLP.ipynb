{
  "nbformat": 4,
  "nbformat_minor": 0,
  "metadata": {
    "colab": {
      "name": "CSE495_NLP.ipynb",
      "provenance": [],
      "authorship_tag": "ABX9TyPf7xsKWSLirWD7FgrTD0vS",
      "include_colab_link": true
    },
    "kernelspec": {
      "name": "python3",
      "display_name": "Python 3"
    },
    "language_info": {
      "name": "python"
    }
  },
  "cells": [
    {
      "cell_type": "markdown",
      "metadata": {
        "id": "view-in-github",
        "colab_type": "text"
      },
      "source": [
        "<a href=\"https://colab.research.google.com/github/ahamed-kashif/NLP_PROJECT_CSE_495/blob/main/CSE495_NLP.ipynb\" target=\"_parent\"><img src=\"https://colab.research.google.com/assets/colab-badge.svg\" alt=\"Open In Colab\"/></a>"
      ]
    },
    {
      "cell_type": "markdown",
      "source": [
        "# Natural Language Processing with Disaster Tweets\n",
        "### CSE495 (NLP) Project\n",
        "#### Source of dataset https://appen.com/datasets-resource-center/"
      ],
      "metadata": {
        "id": "l3PghPhstHqJ"
      }
    },
    {
      "cell_type": "code",
      "execution_count": 13,
      "metadata": {
        "id": "4-o6XUrftFXp"
      },
      "outputs": [],
      "source": [
        "import tensorflow as tf\n",
        "import numpy as np\n",
        "import pandas as pd\n",
        "import re\n",
        "import string\n",
        "import warnings\n",
        "warnings.filterwarnings(\"ignore\")\n",
        "\n",
        "from tensorflow.keras.preprocessing.text import Tokenizer\n",
        "from tensorflow.keras.preprocessing.sequence import pad_sequences"
      ]
    },
    {
      "cell_type": "code",
      "execution_count": 141,
      "metadata": {
        "id": "0eJSTTYnkJQd"
      },
      "outputs": [],
      "source": [
        "vocab_size = 100000\n",
        "embedding_dim = 16\n",
        "max_length = 100\n",
        "trunc_type='post'\n",
        "padding_type='post'\n",
        "oov_tok = \"<OOV>\"\n",
        "training_size = 6000\n"
      ]
    },
    {
      "cell_type": "code",
      "source": [
        "train_data = pd.read_csv(\"sample_data/train.csv\")\n",
        "test_data = pd.read_csv(\"sample_data/test.csv\")\n",
        "train_data.head()\n",
        "train_data.count()"
      ],
      "metadata": {
        "colab": {
          "base_uri": "https://localhost:8080/"
        },
        "id": "GMX8V4RFxmQ3",
        "outputId": "bbd9b355-5bab-49b8-9e32-7db4aba418ab"
      },
      "execution_count": 142,
      "outputs": [
        {
          "output_type": "execute_result",
          "data": {
            "text/plain": [
              "id          7613\n",
              "keyword     7552\n",
              "location    5080\n",
              "text        7613\n",
              "target      7613\n",
              "dtype: int64"
            ]
          },
          "metadata": {},
          "execution_count": 142
        }
      ]
    },
    {
      "cell_type": "code",
      "source": [
        "train_data[\"text_clean\"] = train_data[\"text\"].apply(lambda x: x.lower())\n",
        "test_data[\"text_clean\"] = test_data[\"text\"].apply(lambda x: x.lower())\n",
        "\n",
        "#Special Characters Removal:\n",
        "train_data['text_clean']= train_data['text_clean'].str.replace('rt ',\"\").str.replace('@','').str.replace('#','').str.replace('[^\\w\\s]','').str.replace('[1-9]','')\n",
        "test_data['text_clean']= test_data['text_clean'].str.replace('rt ',\"\").str.replace('@','').str.replace('#','').str.replace('[^\\w\\s]','').str.replace('[1-9]','')\n",
        "# Remove URL\n",
        "def remove_URL(text):\n",
        "    return re.sub(r\"https?://\\S+|www\\.\\S+\", \"\", text)\n",
        "\n",
        "train_data[\"text_clean\"] = train_data[\"text_clean\"].apply(lambda x: remove_URL(x))\n",
        "test_data[\"text_clean\"] = test_data[\"text_clean\"].apply(lambda x: remove_URL(x))\n",
        "\n",
        "def remove_html(text):\n",
        "    html = re.compile(r\"<.*?>|&([a-z0-9]+|#[0-9]{1,6}|#x[0-9a-f]{1,6});\")\n",
        "    return re.sub(html, \"\", text)\n",
        "\n",
        "train_data[\"text_clean\"] = train_data[\"text_clean\"].apply(lambda x: remove_html(x))\n",
        "test_data[\"text_clean\"] = test_data[\"text_clean\"].apply(lambda x: remove_html(x))\n",
        "\n",
        "def remove_emojis(text):\n",
        "    emoji_pattern = re.compile(\n",
        "        '['\n",
        "        u'\\U0001F600-\\U0001F64F'  # emoticons\n",
        "        u'\\U0001F300-\\U0001F5FF'  # symbols & pictographs\n",
        "        u'\\U0001F680-\\U0001F6FF'  # transport & map symbols\n",
        "        u'\\U0001F1E0-\\U0001F1FF'  # flags (iOS)\n",
        "        u'\\U00002702-\\U000027B0'\n",
        "        u'\\U000024C2-\\U0001F251'\n",
        "        ']+',\n",
        "        flags=re.UNICODE)\n",
        "    return emoji_pattern.sub(r'', text)\n",
        "\n",
        "train_data[\"text_clean\"] = train_data[\"text_clean\"].apply(lambda x: remove_emojis(x))\n",
        "test_data[\"text_clean\"] = test_data[\"text_clean\"].apply(lambda x: remove_emojis(x))"
      ],
      "metadata": {
        "id": "Jm7VDD-y0YhH"
      },
      "execution_count": 143,
      "outputs": []
    },
    {
      "cell_type": "code",
      "source": [
        "print(train_data[\"text_clean\"])\n",
        "print(test_data[\"text_clean\"])"
      ],
      "metadata": {
        "colab": {
          "base_uri": "https://localhost:8080/"
        },
        "id": "iyqEPGac0rjG",
        "outputId": "43eb1168-28a7-491a-de38-383517ec21db"
      },
      "execution_count": 144,
      "outputs": [
        {
          "output_type": "stream",
          "name": "stdout",
          "text": [
            "0       our deeds are the reason of this earthquake ma...\n",
            "1                   forest fire near la ronge sask canada\n",
            "2       all residents asked to shelter in place are be...\n",
            "3       000 people receive wildfires evacuation orders...\n",
            "4       just got sent this photo from ruby alaska as s...\n",
            "                              ...                        \n",
            "7608    two giant cranes holding a bridge collapse int...\n",
            "7609    aria_ahrary thetawniest the out of control wil...\n",
            "7610      m 00 utckm s of volcano hawaii httptcozdtoydebj\n",
            "7611    police investigating after an ebike collided w...\n",
            "7612    the latest more homes razed by northern califo...\n",
            "Name: text_clean, Length: 7613, dtype: object\n",
            "0                      just happened a terrible car crash\n",
            "1       heard about earthquake is different cities sta...\n",
            "2       there is a forest fire at spot pond geese are ...\n",
            "3                   apocalypse lighting spokane wildfires\n",
            "4             typhoon soudelor kills  in china and taiwan\n",
            "                              ...                        \n",
            "3258    earthquake safety los angeles ûò safety fasten...\n",
            "3259    storm in ri worse than last hurricane my citya...\n",
            "3260    green line derailment in chicago httptcoutbxlc...\n",
            "3261    meg issues hazardous weather outlook hwo httpt...\n",
            "3262    cityofcalgary has activated its municipal emer...\n",
            "Name: text_clean, Length: 3263, dtype: object\n"
          ]
        }
      ]
    },
    {
      "cell_type": "code",
      "source": [
        "import nltk\n",
        "nltk.download('stopwords')\n",
        "nltk.download('wordnet')\n",
        "from nltk.corpus import stopwords\n",
        "stop_words = set(stopwords.words('english'))\n",
        "\n",
        "train_data['text'] = train_data['text'].apply(lambda x: ' '.join(term for term in x.split() if term not in stop_words))\n",
        "test_data['text'] = train_data['text'].apply(lambda x: ' '.join(term for term in x.split() if term not in stop_words))"
      ],
      "metadata": {
        "colab": {
          "base_uri": "https://localhost:8080/"
        },
        "id": "bcVnAdgr2D1S",
        "outputId": "5e6622a6-39fc-45b2-adeb-c7a47c3f2a5c"
      },
      "execution_count": 145,
      "outputs": [
        {
          "output_type": "stream",
          "name": "stdout",
          "text": [
            "[nltk_data] Downloading package stopwords to /root/nltk_data...\n",
            "[nltk_data]   Package stopwords is already up-to-date!\n",
            "[nltk_data] Downloading package wordnet to /root/nltk_data...\n",
            "[nltk_data]   Package wordnet is already up-to-date!\n"
          ]
        }
      ]
    },
    {
      "cell_type": "code",
      "source": [
        "train_data.isnull().sum()\n",
        "test_data.isnull().sum()\n",
        "train_data['location'] = train_data['location'].fillna('None')\n",
        "train_data['keyword'] = train_data['keyword'].fillna('None')\n",
        "train_data['target'] = train_data['target'].fillna(0)\n",
        "test_data['location'] = test_data['location'].fillna('None')\n",
        "test_data['keyword'] = test_data['keyword'].fillna('None')\n"
      ],
      "metadata": {
        "id": "8LeLLHG-2Jaq"
      },
      "execution_count": 184,
      "outputs": []
    },
    {
      "cell_type": "code",
      "source": [
        "train_data.drop(columns=['id','location','keyword'])\n",
        "test_data.drop(columns=['id','location','keyword'])"
      ],
      "metadata": {
        "colab": {
          "base_uri": "https://localhost:8080/",
          "height": 424
        },
        "id": "LWqOm0vE2OyC",
        "outputId": "dd070d87-e7cb-4145-ce49-ddb66f9c1c79"
      },
      "execution_count": 185,
      "outputs": [
        {
          "output_type": "execute_result",
          "data": {
            "text/plain": [
              "                                                   text  \\\n",
              "0     Our Deeds Reason #earthquake May ALLAH Forgive us   \n",
              "1                Forest fire near La Ronge Sask. Canada   \n",
              "2     All residents asked 'shelter place' notified o...   \n",
              "3     13,000 people receive #wildfires evacuation or...   \n",
              "4     Just got sent photo Ruby #Alaska smoke #wildfi...   \n",
              "...                                                 ...   \n",
              "3258  Do feel engulfed low self-image? Take quiz: ht...   \n",
              "3259  Man equally incapable seeing nothingness emerg...   \n",
              "3260  Fully Engulfed Garage Fire: Propane Tanks Insi...   \n",
              "3261  He came land engulfed tribal war turned land p...   \n",
              "3262  @suelinflower words describe physical painthey...   \n",
              "\n",
              "                                             text_clean  \n",
              "0                    just happened a terrible car crash  \n",
              "1     heard about earthquake is different cities sta...  \n",
              "2     there is a forest fire at spot pond geese are ...  \n",
              "3                 apocalypse lighting spokane wildfires  \n",
              "4           typhoon soudelor kills  in china and taiwan  \n",
              "...                                                 ...  \n",
              "3258  earthquake safety los angeles ûò safety fasten...  \n",
              "3259  storm in ri worse than last hurricane my citya...  \n",
              "3260  green line derailment in chicago httptcoutbxlc...  \n",
              "3261  meg issues hazardous weather outlook hwo httpt...  \n",
              "3262  cityofcalgary has activated its municipal emer...  \n",
              "\n",
              "[3263 rows x 2 columns]"
            ],
            "text/html": [
              "\n",
              "  <div id=\"df-d22ab6c6-abb3-4b9b-b7ee-935c5fb5e7cc\">\n",
              "    <div class=\"colab-df-container\">\n",
              "      <div>\n",
              "<style scoped>\n",
              "    .dataframe tbody tr th:only-of-type {\n",
              "        vertical-align: middle;\n",
              "    }\n",
              "\n",
              "    .dataframe tbody tr th {\n",
              "        vertical-align: top;\n",
              "    }\n",
              "\n",
              "    .dataframe thead th {\n",
              "        text-align: right;\n",
              "    }\n",
              "</style>\n",
              "<table border=\"1\" class=\"dataframe\">\n",
              "  <thead>\n",
              "    <tr style=\"text-align: right;\">\n",
              "      <th></th>\n",
              "      <th>text</th>\n",
              "      <th>text_clean</th>\n",
              "    </tr>\n",
              "  </thead>\n",
              "  <tbody>\n",
              "    <tr>\n",
              "      <th>0</th>\n",
              "      <td>Our Deeds Reason #earthquake May ALLAH Forgive us</td>\n",
              "      <td>just happened a terrible car crash</td>\n",
              "    </tr>\n",
              "    <tr>\n",
              "      <th>1</th>\n",
              "      <td>Forest fire near La Ronge Sask. Canada</td>\n",
              "      <td>heard about earthquake is different cities sta...</td>\n",
              "    </tr>\n",
              "    <tr>\n",
              "      <th>2</th>\n",
              "      <td>All residents asked 'shelter place' notified o...</td>\n",
              "      <td>there is a forest fire at spot pond geese are ...</td>\n",
              "    </tr>\n",
              "    <tr>\n",
              "      <th>3</th>\n",
              "      <td>13,000 people receive #wildfires evacuation or...</td>\n",
              "      <td>apocalypse lighting spokane wildfires</td>\n",
              "    </tr>\n",
              "    <tr>\n",
              "      <th>4</th>\n",
              "      <td>Just got sent photo Ruby #Alaska smoke #wildfi...</td>\n",
              "      <td>typhoon soudelor kills  in china and taiwan</td>\n",
              "    </tr>\n",
              "    <tr>\n",
              "      <th>...</th>\n",
              "      <td>...</td>\n",
              "      <td>...</td>\n",
              "    </tr>\n",
              "    <tr>\n",
              "      <th>3258</th>\n",
              "      <td>Do feel engulfed low self-image? Take quiz: ht...</td>\n",
              "      <td>earthquake safety los angeles ûò safety fasten...</td>\n",
              "    </tr>\n",
              "    <tr>\n",
              "      <th>3259</th>\n",
              "      <td>Man equally incapable seeing nothingness emerg...</td>\n",
              "      <td>storm in ri worse than last hurricane my citya...</td>\n",
              "    </tr>\n",
              "    <tr>\n",
              "      <th>3260</th>\n",
              "      <td>Fully Engulfed Garage Fire: Propane Tanks Insi...</td>\n",
              "      <td>green line derailment in chicago httptcoutbxlc...</td>\n",
              "    </tr>\n",
              "    <tr>\n",
              "      <th>3261</th>\n",
              "      <td>He came land engulfed tribal war turned land p...</td>\n",
              "      <td>meg issues hazardous weather outlook hwo httpt...</td>\n",
              "    </tr>\n",
              "    <tr>\n",
              "      <th>3262</th>\n",
              "      <td>@suelinflower words describe physical painthey...</td>\n",
              "      <td>cityofcalgary has activated its municipal emer...</td>\n",
              "    </tr>\n",
              "  </tbody>\n",
              "</table>\n",
              "<p>3263 rows × 2 columns</p>\n",
              "</div>\n",
              "      <button class=\"colab-df-convert\" onclick=\"convertToInteractive('df-d22ab6c6-abb3-4b9b-b7ee-935c5fb5e7cc')\"\n",
              "              title=\"Convert this dataframe to an interactive table.\"\n",
              "              style=\"display:none;\">\n",
              "        \n",
              "  <svg xmlns=\"http://www.w3.org/2000/svg\" height=\"24px\"viewBox=\"0 0 24 24\"\n",
              "       width=\"24px\">\n",
              "    <path d=\"M0 0h24v24H0V0z\" fill=\"none\"/>\n",
              "    <path d=\"M18.56 5.44l.94 2.06.94-2.06 2.06-.94-2.06-.94-.94-2.06-.94 2.06-2.06.94zm-11 1L8.5 8.5l.94-2.06 2.06-.94-2.06-.94L8.5 2.5l-.94 2.06-2.06.94zm10 10l.94 2.06.94-2.06 2.06-.94-2.06-.94-.94-2.06-.94 2.06-2.06.94z\"/><path d=\"M17.41 7.96l-1.37-1.37c-.4-.4-.92-.59-1.43-.59-.52 0-1.04.2-1.43.59L10.3 9.45l-7.72 7.72c-.78.78-.78 2.05 0 2.83L4 21.41c.39.39.9.59 1.41.59.51 0 1.02-.2 1.41-.59l7.78-7.78 2.81-2.81c.8-.78.8-2.07 0-2.86zM5.41 20L4 18.59l7.72-7.72 1.47 1.35L5.41 20z\"/>\n",
              "  </svg>\n",
              "      </button>\n",
              "      \n",
              "  <style>\n",
              "    .colab-df-container {\n",
              "      display:flex;\n",
              "      flex-wrap:wrap;\n",
              "      gap: 12px;\n",
              "    }\n",
              "\n",
              "    .colab-df-convert {\n",
              "      background-color: #E8F0FE;\n",
              "      border: none;\n",
              "      border-radius: 50%;\n",
              "      cursor: pointer;\n",
              "      display: none;\n",
              "      fill: #1967D2;\n",
              "      height: 32px;\n",
              "      padding: 0 0 0 0;\n",
              "      width: 32px;\n",
              "    }\n",
              "\n",
              "    .colab-df-convert:hover {\n",
              "      background-color: #E2EBFA;\n",
              "      box-shadow: 0px 1px 2px rgba(60, 64, 67, 0.3), 0px 1px 3px 1px rgba(60, 64, 67, 0.15);\n",
              "      fill: #174EA6;\n",
              "    }\n",
              "\n",
              "    [theme=dark] .colab-df-convert {\n",
              "      background-color: #3B4455;\n",
              "      fill: #D2E3FC;\n",
              "    }\n",
              "\n",
              "    [theme=dark] .colab-df-convert:hover {\n",
              "      background-color: #434B5C;\n",
              "      box-shadow: 0px 1px 3px 1px rgba(0, 0, 0, 0.15);\n",
              "      filter: drop-shadow(0px 1px 2px rgba(0, 0, 0, 0.3));\n",
              "      fill: #FFFFFF;\n",
              "    }\n",
              "  </style>\n",
              "\n",
              "      <script>\n",
              "        const buttonEl =\n",
              "          document.querySelector('#df-d22ab6c6-abb3-4b9b-b7ee-935c5fb5e7cc button.colab-df-convert');\n",
              "        buttonEl.style.display =\n",
              "          google.colab.kernel.accessAllowed ? 'block' : 'none';\n",
              "\n",
              "        async function convertToInteractive(key) {\n",
              "          const element = document.querySelector('#df-d22ab6c6-abb3-4b9b-b7ee-935c5fb5e7cc');\n",
              "          const dataTable =\n",
              "            await google.colab.kernel.invokeFunction('convertToInteractive',\n",
              "                                                     [key], {});\n",
              "          if (!dataTable) return;\n",
              "\n",
              "          const docLinkHtml = 'Like what you see? Visit the ' +\n",
              "            '<a target=\"_blank\" href=https://colab.research.google.com/notebooks/data_table.ipynb>data table notebook</a>'\n",
              "            + ' to learn more about interactive tables.';\n",
              "          element.innerHTML = '';\n",
              "          dataTable['output_type'] = 'display_data';\n",
              "          await google.colab.output.renderOutput(dataTable, element);\n",
              "          const docLink = document.createElement('div');\n",
              "          docLink.innerHTML = docLinkHtml;\n",
              "          element.appendChild(docLink);\n",
              "        }\n",
              "      </script>\n",
              "    </div>\n",
              "  </div>\n",
              "  "
            ]
          },
          "metadata": {},
          "execution_count": 185
        }
      ]
    },
    {
      "cell_type": "code",
      "source": [
        "sentences = train_data['text_clean']\n",
        "labels = train_data['target']\n",
        "training_sentences = train_data.loc[:training_size-1,'text_clean']\n",
        "testing_sentences = train_data.loc[training_size:,'text_clean']\n",
        "training_labels =  labels[0:training_size]\n",
        "testing_labels = labels[training_size:]"
      ],
      "metadata": {
        "id": "uCegQr7r7F2k"
      },
      "execution_count": 193,
      "outputs": []
    },
    {
      "cell_type": "code",
      "source": [
        "print(testing_sentences)"
      ],
      "metadata": {
        "colab": {
          "base_uri": "https://localhost:8080/"
        },
        "id": "pMQCoOAAULg4",
        "outputId": "2a795ab5-bc81-4da4-f452-37e1d5bf4558"
      },
      "execution_count": 187,
      "outputs": [
        {
          "output_type": "stream",
          "name": "stdout",
          "text": [
            "6000    saku_uchiha_ ya_boi_luke \\n\\nscreams and gets ...\n",
            "6001            heyot im not home i need to watch screams\n",
            "6002    in light of recent events all i would like to ...\n",
            "6003    so lawsonofficial just followed me and i canno...\n",
            "6004         tiles zacb_ my dell tablet screams with win0\n",
            "                              ...                        \n",
            "7608    two giant cranes holding a bridge collapse int...\n",
            "7609    aria_ahrary thetawniest the out of control wil...\n",
            "7610      m 00 utckm s of volcano hawaii httptcozdtoydebj\n",
            "7611    police investigating after an ebike collided w...\n",
            "7612    the latest more homes razed by northern califo...\n",
            "Name: text_clean, Length: 1613, dtype: object\n"
          ]
        }
      ]
    },
    {
      "cell_type": "code",
      "execution_count": 194,
      "metadata": {
        "id": "3u8UB0MCkZ5N"
      },
      "outputs": [],
      "source": [
        "tokenizer = Tokenizer(num_words=vocab_size, oov_token=oov_tok)\n",
        "tokenizer.fit_on_texts(training_sentences)\n",
        "word_index = tokenizer.word_index\n",
        "\n",
        "training_sequences = tokenizer.texts_to_sequences(training_sentences)\n",
        "training_padded = pad_sequences(training_sequences, maxlen=max_length, padding=padding_type, truncating=trunc_type)\n",
        "\n",
        "testing_sequences = tokenizer.texts_to_sequences(testing_sentences)\n",
        "testing_padded = pad_sequences(testing_sequences, maxlen=max_length, padding=padding_type, truncating=trunc_type)\n",
        "training_labels = training_labels\n",
        "testing_labels = testing_labels"
      ]
    },
    {
      "cell_type": "code",
      "source": [
        "training_labels.shape"
      ],
      "metadata": {
        "colab": {
          "base_uri": "https://localhost:8080/"
        },
        "id": "uAoZ5re6X9Oo",
        "outputId": "22776202-a803-426a-9c5d-928b347cbf96"
      },
      "execution_count": 196,
      "outputs": [
        {
          "output_type": "execute_result",
          "data": {
            "text/plain": [
              "(6000,)"
            ]
          },
          "metadata": {},
          "execution_count": 196
        }
      ]
    },
    {
      "cell_type": "code",
      "source": [
        "# Need this block to get it to work with TensorFlow 2.x\n",
        "import numpy as np\n",
        "training_padded = np.array(training_padded)\n",
        "training_labels = np.array(training_labels)\n",
        "testing_padded = np.array(testing_padded)\n",
        "testing_labels = np.array(testing_labels)"
      ],
      "metadata": {
        "id": "VkkZln-152S6"
      },
      "execution_count": 197,
      "outputs": []
    },
    {
      "cell_type": "code",
      "source": [
        "model = tf.keras.Sequential([\n",
        "    tf.keras.layers.Embedding(vocab_size, embedding_dim, input_length=max_length),\n",
        "    tf.keras.layers.GlobalAveragePooling1D(),\n",
        "    tf.keras.layers.Dense(32, activation='relu'),\n",
        "    tf.keras.layers.Dense(1, activation='sigmoid')\n",
        "])\n",
        "model.compile(loss='binary_crossentropy',optimizer='adam',metrics=['accuracy'])"
      ],
      "metadata": {
        "id": "O7VKyUvr9gBz"
      },
      "execution_count": 208,
      "outputs": []
    },
    {
      "cell_type": "code",
      "source": [
        "model.summary()"
      ],
      "metadata": {
        "colab": {
          "base_uri": "https://localhost:8080/"
        },
        "id": "ZFo8QuD39ksQ",
        "outputId": "420ccd32-1163-41d1-ca0d-af4a06d02b1e"
      },
      "execution_count": 202,
      "outputs": [
        {
          "output_type": "stream",
          "name": "stdout",
          "text": [
            "Model: \"sequential_9\"\n",
            "_________________________________________________________________\n",
            " Layer (type)                Output Shape              Param #   \n",
            "=================================================================\n",
            " embedding_9 (Embedding)     (None, 100, 16)           1600000   \n",
            "                                                                 \n",
            " global_average_pooling1d_9   (None, 16)               0         \n",
            " (GlobalAveragePooling1D)                                        \n",
            "                                                                 \n",
            " dense_22 (Dense)            (None, 24)                408       \n",
            "                                                                 \n",
            " dense_23 (Dense)            (None, 1)                 25        \n",
            "                                                                 \n",
            "=================================================================\n",
            "Total params: 1,600,433\n",
            "Trainable params: 1,600,433\n",
            "Non-trainable params: 0\n",
            "_________________________________________________________________\n"
          ]
        }
      ]
    },
    {
      "cell_type": "code",
      "source": [
        "num_epochs = 30\n",
        "history = model.fit(training_padded, training_labels, epochs=num_epochs, validation_data=(testing_padded, testing_labels), verbose=2)"
      ],
      "metadata": {
        "colab": {
          "base_uri": "https://localhost:8080/"
        },
        "id": "J_l4t6B19oDI",
        "outputId": "ae02a719-648b-4317-89e2-715837b02192"
      },
      "execution_count": 209,
      "outputs": [
        {
          "output_type": "stream",
          "name": "stdout",
          "text": [
            "Epoch 1/30\n",
            "188/188 - 3s - loss: 0.6796 - accuracy: 0.5805 - val_loss: 0.6893 - val_accuracy: 0.5325 - 3s/epoch - 18ms/step\n",
            "Epoch 2/30\n",
            "188/188 - 3s - loss: 0.6651 - accuracy: 0.5807 - val_loss: 0.6683 - val_accuracy: 0.5332 - 3s/epoch - 14ms/step\n",
            "Epoch 3/30\n",
            "188/188 - 3s - loss: 0.5907 - accuracy: 0.6903 - val_loss: 0.5881 - val_accuracy: 0.7210 - 3s/epoch - 15ms/step\n",
            "Epoch 4/30\n",
            "188/188 - 3s - loss: 0.4570 - accuracy: 0.8370 - val_loss: 0.5159 - val_accuracy: 0.7781 - 3s/epoch - 14ms/step\n",
            "Epoch 5/30\n",
            "188/188 - 4s - loss: 0.3597 - accuracy: 0.8703 - val_loss: 0.4878 - val_accuracy: 0.7843 - 4s/epoch - 19ms/step\n",
            "Epoch 6/30\n",
            "188/188 - 3s - loss: 0.2964 - accuracy: 0.8905 - val_loss: 0.4748 - val_accuracy: 0.7911 - 3s/epoch - 14ms/step\n",
            "Epoch 7/30\n",
            "188/188 - 3s - loss: 0.2474 - accuracy: 0.9113 - val_loss: 0.4875 - val_accuracy: 0.7805 - 3s/epoch - 15ms/step\n",
            "Epoch 8/30\n",
            "188/188 - 3s - loss: 0.2076 - accuracy: 0.9272 - val_loss: 0.4710 - val_accuracy: 0.7967 - 3s/epoch - 15ms/step\n",
            "Epoch 9/30\n",
            "188/188 - 3s - loss: 0.1741 - accuracy: 0.9403 - val_loss: 0.5019 - val_accuracy: 0.7539 - 3s/epoch - 14ms/step\n",
            "Epoch 10/30\n",
            "188/188 - 3s - loss: 0.1450 - accuracy: 0.9520 - val_loss: 0.4857 - val_accuracy: 0.7880 - 3s/epoch - 14ms/step\n",
            "Epoch 11/30\n",
            "188/188 - 3s - loss: 0.1238 - accuracy: 0.9622 - val_loss: 0.4976 - val_accuracy: 0.7867 - 3s/epoch - 15ms/step\n",
            "Epoch 12/30\n",
            "188/188 - 3s - loss: 0.1033 - accuracy: 0.9695 - val_loss: 0.5126 - val_accuracy: 0.7799 - 3s/epoch - 14ms/step\n",
            "Epoch 13/30\n",
            "188/188 - 3s - loss: 0.0895 - accuracy: 0.9738 - val_loss: 0.5385 - val_accuracy: 0.7595 - 3s/epoch - 14ms/step\n",
            "Epoch 14/30\n",
            "188/188 - 3s - loss: 0.0746 - accuracy: 0.9775 - val_loss: 0.5562 - val_accuracy: 0.7557 - 3s/epoch - 14ms/step\n",
            "Epoch 15/30\n",
            "188/188 - 3s - loss: 0.0650 - accuracy: 0.9817 - val_loss: 0.5885 - val_accuracy: 0.7446 - 3s/epoch - 14ms/step\n",
            "Epoch 16/30\n",
            "188/188 - 3s - loss: 0.0568 - accuracy: 0.9853 - val_loss: 0.5884 - val_accuracy: 0.7843 - 3s/epoch - 14ms/step\n",
            "Epoch 17/30\n",
            "188/188 - 3s - loss: 0.0480 - accuracy: 0.9883 - val_loss: 0.5998 - val_accuracy: 0.7725 - 3s/epoch - 14ms/step\n",
            "Epoch 18/30\n",
            "188/188 - 3s - loss: 0.0418 - accuracy: 0.9897 - val_loss: 0.6198 - val_accuracy: 0.7712 - 3s/epoch - 15ms/step\n",
            "Epoch 19/30\n",
            "188/188 - 3s - loss: 0.0377 - accuracy: 0.9897 - val_loss: 0.6514 - val_accuracy: 0.7520 - 3s/epoch - 15ms/step\n",
            "Epoch 20/30\n",
            "188/188 - 3s - loss: 0.0333 - accuracy: 0.9920 - val_loss: 0.6578 - val_accuracy: 0.7644 - 3s/epoch - 15ms/step\n",
            "Epoch 21/30\n",
            "188/188 - 3s - loss: 0.0307 - accuracy: 0.9925 - val_loss: 0.7029 - val_accuracy: 0.7359 - 3s/epoch - 15ms/step\n",
            "Epoch 22/30\n",
            "188/188 - 3s - loss: 0.0272 - accuracy: 0.9935 - val_loss: 0.7009 - val_accuracy: 0.7626 - 3s/epoch - 14ms/step\n",
            "Epoch 23/30\n",
            "188/188 - 3s - loss: 0.0258 - accuracy: 0.9933 - val_loss: 0.7171 - val_accuracy: 0.7613 - 3s/epoch - 14ms/step\n",
            "Epoch 24/30\n",
            "188/188 - 3s - loss: 0.0228 - accuracy: 0.9933 - val_loss: 0.7404 - val_accuracy: 0.7632 - 3s/epoch - 14ms/step\n",
            "Epoch 25/30\n",
            "188/188 - 3s - loss: 0.0212 - accuracy: 0.9940 - val_loss: 0.8008 - val_accuracy: 0.7266 - 3s/epoch - 14ms/step\n",
            "Epoch 26/30\n",
            "188/188 - 3s - loss: 0.0209 - accuracy: 0.9935 - val_loss: 0.7760 - val_accuracy: 0.7601 - 3s/epoch - 15ms/step\n",
            "Epoch 27/30\n",
            "188/188 - 3s - loss: 0.0198 - accuracy: 0.9945 - val_loss: 0.7974 - val_accuracy: 0.7557 - 3s/epoch - 15ms/step\n",
            "Epoch 28/30\n",
            "188/188 - 3s - loss: 0.0176 - accuracy: 0.9947 - val_loss: 0.8124 - val_accuracy: 0.7582 - 3s/epoch - 15ms/step\n",
            "Epoch 29/30\n",
            "188/188 - 3s - loss: 0.0174 - accuracy: 0.9948 - val_loss: 0.8310 - val_accuracy: 0.7557 - 3s/epoch - 15ms/step\n",
            "Epoch 30/30\n",
            "188/188 - 3s - loss: 0.0152 - accuracy: 0.9952 - val_loss: 0.8408 - val_accuracy: 0.7520 - 3s/epoch - 15ms/step\n"
          ]
        }
      ]
    },
    {
      "cell_type": "code",
      "execution_count": 210,
      "metadata": {
        "id": "2HYfBKXjkmU8",
        "colab": {
          "base_uri": "https://localhost:8080/",
          "height": 541
        },
        "outputId": "8912eea7-1db6-47ce-e1bb-c98699a9b187"
      },
      "outputs": [
        {
          "output_type": "display_data",
          "data": {
            "text/plain": [
              "<Figure size 432x288 with 1 Axes>"
            ],
            "image/png": "[encoded data removed]"
          },
          "metadata": {
            "needs_background": "light"
          }
        },
        {
          "output_type": "display_data",
          "data": {
            "text/plain": [
              "<Figure size 432x288 with 1 Axes>"
            ],
            "image/png": "[encoded data removed]"
          },
          "metadata": {
            "needs_background": "light"
          }
        }
      ],
      "source": [
        "import matplotlib.pyplot as plt\n",
        "\n",
        "\n",
        "def plot_graphs(history, string):\n",
        "  plt.plot(history.history[string])\n",
        "  plt.plot(history.history['val_'+string])\n",
        "  plt.xlabel(\"Epochs\")\n",
        "  plt.ylabel(string)\n",
        "  plt.legend([string, 'val_'+string])\n",
        "  plt.show()\n",
        "  \n",
        "plot_graphs(history, \"accuracy\")\n",
        "plot_graphs(history, \"loss\")"
      ]
    },
    {
      "cell_type": "code",
      "source": [
        "from tensorflow.keras.models import Sequential\n",
        "from tensorflow.keras.layers import Embedding, SimpleRNN, Dense"
      ],
      "metadata": {
        "id": "uucDpVhkeuc2"
      },
      "execution_count": 211,
      "outputs": []
    },
    {
      "cell_type": "code",
      "source": [
        "model = Sequential([\n",
        "    Embedding(input_dim=vocab_size, output_dim=embedding_dim,\n",
        "              mask_zero=True, input_length=max_length,\n",
        "              trainable=False, embeddings_initializer=tf.keras.initializers.random_normal()),\n",
        "    SimpleRNN(units=100),\n",
        "    Dense(2)\n",
        "])\n",
        "model.compile(loss='binary_crossentropy',optimizer='adam',metrics=['accuracy'])\n",
        "model.summary()"
      ],
      "metadata": {
        "colab": {
          "base_uri": "https://localhost:8080/"
        },
        "id": "Klrdudp_e1gl",
        "outputId": "026a5ab8-2339-4a2b-f5d1-553a81b995b5"
      },
      "execution_count": 214,
      "outputs": [
        {
          "output_type": "stream",
          "name": "stdout",
          "text": [
            "Model: \"sequential_12\"\n",
            "_________________________________________________________________\n",
            " Layer (type)                Output Shape              Param #   \n",
            "=================================================================\n",
            " embedding_12 (Embedding)    (None, 100, 16)           1600000   \n",
            "                                                                 \n",
            " simple_rnn_1 (SimpleRNN)    (None, 10)                270       \n",
            "                                                                 \n",
            " dense_27 (Dense)            (None, 2)                 22        \n",
            "                                                                 \n",
            "=================================================================\n",
            "Total params: 1,600,292\n",
            "Trainable params: 292\n",
            "Non-trainable params: 1,600,000\n",
            "_________________________________________________________________\n"
          ]
        }
      ]
    },
    {
      "cell_type": "code",
      "source": [
        "num_epochs = 30\n",
        "history = model.fit(training_padded, training_labels, epochs=num_epochs, validation_data=(testing_padded, testing_labels), verbose=2)"
      ],
      "metadata": {
        "colab": {
          "base_uri": "https://localhost:8080/"
        },
        "id": "zoKUJNRefT4e",
        "outputId": "6fcb08b7-0b65-413f-b144-05a8a4deed92"
      },
      "execution_count": 215,
      "outputs": [
        {
          "output_type": "stream",
          "name": "stdout",
          "text": [
            "Epoch 1/30\n",
            "188/188 - 8s - loss: 2.7558 - accuracy: 0.5112 - val_loss: 2.3685 - val_accuracy: 0.5462 - 8s/epoch - 45ms/step\n",
            "Epoch 2/30\n",
            "188/188 - 5s - loss: 1.6553 - accuracy: 0.5335 - val_loss: 0.9629 - val_accuracy: 0.5394 - 5s/epoch - 26ms/step\n",
            "Epoch 3/30\n",
            "188/188 - 5s - loss: 0.9003 - accuracy: 0.5330 - val_loss: 0.7996 - val_accuracy: 0.5301 - 5s/epoch - 26ms/step\n",
            "Epoch 4/30\n",
            "188/188 - 5s - loss: 0.7892 - accuracy: 0.5297 - val_loss: 0.7565 - val_accuracy: 0.5183 - 5s/epoch - 26ms/step\n",
            "Epoch 5/30\n",
            "188/188 - 5s - loss: 0.7546 - accuracy: 0.5173 - val_loss: 0.7397 - val_accuracy: 0.5115 - 5s/epoch - 26ms/step\n",
            "Epoch 6/30\n",
            "188/188 - 5s - loss: 0.7362 - accuracy: 0.5038 - val_loss: 0.7273 - val_accuracy: 0.5084 - 5s/epoch - 26ms/step\n",
            "Epoch 7/30\n",
            "188/188 - 5s - loss: 0.7249 - accuracy: 0.4977 - val_loss: 0.7205 - val_accuracy: 0.5046 - 5s/epoch - 26ms/step\n",
            "Epoch 8/30\n",
            "188/188 - 5s - loss: 0.7185 - accuracy: 0.4903 - val_loss: 0.7156 - val_accuracy: 0.5015 - 5s/epoch - 26ms/step\n",
            "Epoch 9/30\n",
            "188/188 - 6s - loss: 0.7122 - accuracy: 0.4873 - val_loss: 0.7117 - val_accuracy: 0.4966 - 6s/epoch - 31ms/step\n",
            "Epoch 10/30\n",
            "188/188 - 5s - loss: 0.7083 - accuracy: 0.4850 - val_loss: 0.7087 - val_accuracy: 0.4935 - 5s/epoch - 26ms/step\n",
            "Epoch 11/30\n",
            "188/188 - 5s - loss: 0.7049 - accuracy: 0.4840 - val_loss: 0.7027 - val_accuracy: 0.4904 - 5s/epoch - 26ms/step\n",
            "Epoch 12/30\n",
            "188/188 - 5s - loss: 0.7018 - accuracy: 0.4840 - val_loss: 0.7001 - val_accuracy: 0.4929 - 5s/epoch - 26ms/step\n",
            "Epoch 13/30\n",
            "188/188 - 5s - loss: 0.6991 - accuracy: 0.4868 - val_loss: 0.6987 - val_accuracy: 0.4854 - 5s/epoch - 26ms/step\n",
            "Epoch 14/30\n",
            "188/188 - 5s - loss: 0.6965 - accuracy: 0.4850 - val_loss: 0.6977 - val_accuracy: 0.4836 - 5s/epoch - 26ms/step\n",
            "Epoch 15/30\n",
            "188/188 - 5s - loss: 0.6945 - accuracy: 0.4830 - val_loss: 0.6949 - val_accuracy: 0.4892 - 5s/epoch - 26ms/step\n",
            "Epoch 16/30\n",
            "188/188 - 5s - loss: 0.6922 - accuracy: 0.4810 - val_loss: 0.6930 - val_accuracy: 0.4910 - 5s/epoch - 26ms/step\n",
            "Epoch 17/30\n",
            "188/188 - 5s - loss: 0.6905 - accuracy: 0.4807 - val_loss: 0.6921 - val_accuracy: 0.4910 - 5s/epoch - 25ms/step\n",
            "Epoch 18/30\n",
            "188/188 - 5s - loss: 0.6887 - accuracy: 0.4810 - val_loss: 0.6923 - val_accuracy: 0.4867 - 5s/epoch - 26ms/step\n",
            "Epoch 19/30\n",
            "188/188 - 5s - loss: 0.6870 - accuracy: 0.4805 - val_loss: 0.6886 - val_accuracy: 0.4873 - 5s/epoch - 26ms/step\n",
            "Epoch 20/30\n",
            "188/188 - 5s - loss: 0.6857 - accuracy: 0.4818 - val_loss: 0.6894 - val_accuracy: 0.4854 - 5s/epoch - 26ms/step\n",
            "Epoch 21/30\n",
            "188/188 - 5s - loss: 0.6843 - accuracy: 0.4825 - val_loss: 0.6856 - val_accuracy: 0.4904 - 5s/epoch - 26ms/step\n",
            "Epoch 22/30\n",
            "188/188 - 5s - loss: 0.6834 - accuracy: 0.4800 - val_loss: 0.6880 - val_accuracy: 0.4916 - 5s/epoch - 29ms/step\n",
            "Epoch 23/30\n",
            "188/188 - 5s - loss: 0.6821 - accuracy: 0.4795 - val_loss: 0.6892 - val_accuracy: 0.4811 - 5s/epoch - 26ms/step\n",
            "Epoch 24/30\n",
            "188/188 - 5s - loss: 0.6809 - accuracy: 0.4817 - val_loss: 0.6832 - val_accuracy: 0.4842 - 5s/epoch - 29ms/step\n",
            "Epoch 25/30\n",
            "188/188 - 5s - loss: 0.6803 - accuracy: 0.4828 - val_loss: 0.6859 - val_accuracy: 0.4799 - 5s/epoch - 26ms/step\n",
            "Epoch 26/30\n",
            "188/188 - 5s - loss: 0.6796 - accuracy: 0.4800 - val_loss: 0.6843 - val_accuracy: 0.4823 - 5s/epoch - 25ms/step\n",
            "Epoch 27/30\n",
            "188/188 - 5s - loss: 0.6791 - accuracy: 0.4802 - val_loss: 0.6843 - val_accuracy: 0.4817 - 5s/epoch - 26ms/step\n",
            "Epoch 28/30\n",
            "188/188 - 5s - loss: 0.6786 - accuracy: 0.4790 - val_loss: 0.6876 - val_accuracy: 0.4892 - 5s/epoch - 26ms/step\n",
            "Epoch 29/30\n",
            "188/188 - 5s - loss: 0.6779 - accuracy: 0.4835 - val_loss: 0.6803 - val_accuracy: 0.4830 - 5s/epoch - 26ms/step\n",
            "Epoch 30/30\n",
            "188/188 - 5s - loss: 0.6774 - accuracy: 0.4855 - val_loss: 0.6844 - val_accuracy: 0.4947 - 5s/epoch - 26ms/step\n"
          ]
        }
      ]
    },
    {
      "cell_type": "code",
      "source": [
        "plot_graphs(history, \"accuracy\")\n",
        "plot_graphs(history, \"loss\")"
      ],
      "metadata": {
        "colab": {
          "base_uri": "https://localhost:8080/",
          "height": 541
        },
        "id": "u_l74WqSgRtb",
        "outputId": "e4185c8b-e704-4883-a0cd-f1a26e7a57ac"
      },
      "execution_count": 216,
      "outputs": [
        {
          "output_type": "display_data",
          "data": {
            "text/plain": [
              "<Figure size 432x288 with 1 Axes>"
            ],
            "image/png": "[encoded data removed]"
          },
          "metadata": {
            "needs_background": "light"
          }
        },
        {
          "output_type": "display_data",
          "data": {
            "text/plain": [
              "<Figure size 432x288 with 1 Axes>"
            ],
            "image/png": "[encoded data removed]"
          },
          "metadata": {
            "needs_background": "light"
          }
        }
      ]
    },
    {
      "cell_type": "code",
      "source": [
        "model = Sequential([\n",
        "    Embedding(input_dim=vocab_size, output_dim=embedding_dim,\n",
        "              mask_zero=True, input_length=max_length,\n",
        "              trainable=False, embeddings_initializer=tf.keras.initializers.random_normal()),\n",
        "    SimpleRNN(units=100),\n",
        "    Dense(2)\n",
        "])\n",
        "model.compile(loss='binary_crossentropy',optimizer='adam',metrics=['accuracy'])\n",
        "model.summary()"
      ],
      "metadata": {
        "colab": {
          "base_uri": "https://localhost:8080/"
        },
        "id": "fiq4XlVNghpK",
        "outputId": "5fcf30c9-0ca9-4b30-c457-ccd213c1964d"
      },
      "execution_count": 219,
      "outputs": [
        {
          "output_type": "stream",
          "name": "stdout",
          "text": [
            "Model: \"sequential_14\"\n",
            "_________________________________________________________________\n",
            " Layer (type)                Output Shape              Param #   \n",
            "=================================================================\n",
            " embedding_14 (Embedding)    (None, 100, 16)           1600000   \n",
            "                                                                 \n",
            " simple_rnn_3 (SimpleRNN)    (None, 100)               11700     \n",
            "                                                                 \n",
            " dense_29 (Dense)            (None, 2)                 202       \n",
            "                                                                 \n",
            "=================================================================\n",
            "Total params: 1,611,902\n",
            "Trainable params: 11,902\n",
            "Non-trainable params: 1,600,000\n",
            "_________________________________________________________________\n"
          ]
        }
      ]
    },
    {
      "cell_type": "code",
      "source": [
        "num_epochs = 30\n",
        "history = model.fit(training_padded, training_labels, epochs=num_epochs, validation_data=(testing_padded, testing_labels), verbose=2)"
      ],
      "metadata": {
        "colab": {
          "base_uri": "https://localhost:8080/"
        },
        "id": "9lzvbB1vgw25",
        "outputId": "2bc7c6ef-2f3c-4149-dee7-a5fea8097ec3"
      },
      "execution_count": 220,
      "outputs": [
        {
          "output_type": "stream",
          "name": "stdout",
          "text": [
            "Epoch 1/30\n",
            "188/188 - 8s - loss: 0.9381 - accuracy: 0.5073 - val_loss: 0.7085 - val_accuracy: 0.5127 - 8s/epoch - 45ms/step\n",
            "Epoch 2/30\n",
            "188/188 - 7s - loss: 0.6867 - accuracy: 0.4952 - val_loss: 0.6943 - val_accuracy: 0.5195 - 7s/epoch - 37ms/step\n",
            "Epoch 3/30\n",
            "188/188 - 7s - loss: 0.6711 - accuracy: 0.4967 - val_loss: 0.6895 - val_accuracy: 0.5313 - 7s/epoch - 37ms/step\n",
            "Epoch 4/30\n",
            "188/188 - 7s - loss: 0.6686 - accuracy: 0.4997 - val_loss: 0.6884 - val_accuracy: 0.5263 - 7s/epoch - 37ms/step\n",
            "Epoch 5/30\n",
            "188/188 - 7s - loss: 0.6572 - accuracy: 0.4918 - val_loss: 0.7422 - val_accuracy: 0.5257 - 7s/epoch - 37ms/step\n",
            "Epoch 6/30\n",
            "188/188 - 7s - loss: 0.6625 - accuracy: 0.4950 - val_loss: 0.6852 - val_accuracy: 0.5226 - 7s/epoch - 37ms/step\n",
            "Epoch 7/30\n",
            "188/188 - 7s - loss: 0.6502 - accuracy: 0.4882 - val_loss: 0.7084 - val_accuracy: 0.5239 - 7s/epoch - 37ms/step\n",
            "Epoch 8/30\n",
            "188/188 - 7s - loss: 0.6576 - accuracy: 0.4865 - val_loss: 0.7378 - val_accuracy: 0.4941 - 7s/epoch - 37ms/step\n",
            "Epoch 9/30\n",
            "188/188 - 7s - loss: 0.6482 - accuracy: 0.4628 - val_loss: 0.7172 - val_accuracy: 0.4743 - 7s/epoch - 38ms/step\n",
            "Epoch 10/30\n",
            "188/188 - 7s - loss: 0.6503 - accuracy: 0.4582 - val_loss: 0.6952 - val_accuracy: 0.4761 - 7s/epoch - 37ms/step\n",
            "Epoch 11/30\n",
            "188/188 - 7s - loss: 0.7236 - accuracy: 0.5052 - val_loss: 0.6992 - val_accuracy: 0.5375 - 7s/epoch - 37ms/step\n",
            "Epoch 12/30\n",
            "188/188 - 7s - loss: 0.6646 - accuracy: 0.5418 - val_loss: 0.6841 - val_accuracy: 0.5363 - 7s/epoch - 37ms/step\n",
            "Epoch 13/30\n",
            "188/188 - 7s - loss: 0.6567 - accuracy: 0.5362 - val_loss: 0.6864 - val_accuracy: 0.5195 - 7s/epoch - 37ms/step\n",
            "Epoch 14/30\n",
            "188/188 - 7s - loss: 0.6503 - accuracy: 0.5248 - val_loss: 0.6838 - val_accuracy: 0.5040 - 7s/epoch - 37ms/step\n",
            "Epoch 15/30\n",
            "188/188 - 8s - loss: 0.6514 - accuracy: 0.5077 - val_loss: 0.7109 - val_accuracy: 0.5183 - 8s/epoch - 40ms/step\n",
            "Epoch 16/30\n",
            "188/188 - 8s - loss: 0.6438 - accuracy: 0.5238 - val_loss: 0.7041 - val_accuracy: 0.5152 - 8s/epoch - 40ms/step\n",
            "Epoch 17/30\n",
            "188/188 - 7s - loss: 0.6505 - accuracy: 0.5240 - val_loss: 0.7036 - val_accuracy: 0.5059 - 7s/epoch - 38ms/step\n",
            "Epoch 18/30\n",
            "188/188 - 7s - loss: 0.6435 - accuracy: 0.5350 - val_loss: 0.7815 - val_accuracy: 0.5208 - 7s/epoch - 38ms/step\n",
            "Epoch 19/30\n",
            "188/188 - 7s - loss: 0.6680 - accuracy: 0.4952 - val_loss: 0.6871 - val_accuracy: 0.4954 - 7s/epoch - 37ms/step\n",
            "Epoch 20/30\n",
            "188/188 - 7s - loss: 0.6598 - accuracy: 0.4858 - val_loss: 0.7393 - val_accuracy: 0.4954 - 7s/epoch - 37ms/step\n",
            "Epoch 21/30\n",
            "188/188 - 7s - loss: 0.6557 - accuracy: 0.4977 - val_loss: 0.6815 - val_accuracy: 0.5046 - 7s/epoch - 37ms/step\n",
            "Epoch 22/30\n",
            "188/188 - 7s - loss: 0.6981 - accuracy: 0.4670 - val_loss: 0.6814 - val_accuracy: 0.4706 - 7s/epoch - 38ms/step\n",
            "Epoch 23/30\n",
            "188/188 - 7s - loss: 0.6585 - accuracy: 0.4488 - val_loss: 0.6835 - val_accuracy: 0.4706 - 7s/epoch - 37ms/step\n",
            "Epoch 24/30\n",
            "188/188 - 7s - loss: 0.6522 - accuracy: 0.4543 - val_loss: 0.6854 - val_accuracy: 0.4836 - 7s/epoch - 37ms/step\n",
            "Epoch 25/30\n",
            "188/188 - 7s - loss: 0.6466 - accuracy: 0.4547 - val_loss: 0.7138 - val_accuracy: 0.4848 - 7s/epoch - 37ms/step\n",
            "Epoch 26/30\n",
            "188/188 - 7s - loss: 0.6566 - accuracy: 0.4915 - val_loss: 0.6733 - val_accuracy: 0.4830 - 7s/epoch - 38ms/step\n",
            "Epoch 27/30\n",
            "188/188 - 7s - loss: 0.6439 - accuracy: 0.4752 - val_loss: 0.6727 - val_accuracy: 0.4997 - 7s/epoch - 37ms/step\n",
            "Epoch 28/30\n",
            "188/188 - 7s - loss: 0.6449 - accuracy: 0.4875 - val_loss: 0.6838 - val_accuracy: 0.5077 - 7s/epoch - 37ms/step\n",
            "Epoch 29/30\n",
            "188/188 - 7s - loss: 0.6557 - accuracy: 0.4902 - val_loss: 0.7008 - val_accuracy: 0.4867 - 7s/epoch - 37ms/step\n",
            "Epoch 30/30\n",
            "188/188 - 7s - loss: 0.6475 - accuracy: 0.4575 - val_loss: 0.6759 - val_accuracy: 0.4885 - 7s/epoch - 37ms/step\n"
          ]
        }
      ]
    },
    {
      "cell_type": "code",
      "source": [
        "plot_graphs(history, \"accuracy\")\n",
        "plot_graphs(history, \"loss\")"
      ],
      "metadata": {
        "colab": {
          "base_uri": "https://localhost:8080/",
          "height": 543
        },
        "outputId": "43e95785-de8d-4801-abe0-bddcb7ec5b23",
        "id": "2AG7FOaGiLaL"
      },
      "execution_count": 221,
      "outputs": [
        {
          "output_type": "display_data",
          "data": {
            "text/plain": [
              "<Figure size 432x288 with 1 Axes>"
            ],
            "image/png": "[encoded data removed]"
          },
          "metadata": {
            "needs_background": "light"
          }
        },
        {
          "output_type": "display_data",
          "data": {
            "text/plain": [
              "<Figure size 432x288 with 1 Axes>"
            ],
            "image/png": "[encoded data removed]"
          },
          "metadata": {
            "needs_background": "light"
          }
        }
      ]
    },
    {
      "cell_type": "code",
      "source": [
        "sequences = tokenizer.texts_to_sequences(test_data['text_clean'])\n",
        "padded = pad_sequences(sequences, maxlen=max_length, padding=padding_type, truncating=trunc_type)\n",
        "pred = model.predict(padded)\n",
        "print()"
      ],
      "metadata": {
        "colab": {
          "base_uri": "https://localhost:8080/"
        },
        "id": "LIvwSa2x-9AE",
        "outputId": "7bd6922e-05ce-4101-cd42-d508d92311cf"
      },
      "execution_count": 205,
      "outputs": [
        {
          "output_type": "stream",
          "name": "stdout",
          "text": [
            "\n"
          ]
        }
      ]
    },
    {
      "cell_type": "code",
      "source": [
        "submission_df = pd.read_csv('sample_data/predict.csv')\n",
        "submission_df['target'] = pred\n",
        "submission_df.to_csv('submission.csv', index=False)\n",
        "result = pd.read_csv('submission.csv')"
      ],
      "metadata": {
        "id": "UddYHV5E_7n2"
      },
      "execution_count": 206,
      "outputs": []
    },
    {
      "cell_type": "code",
      "source": [
        "print(result)"
      ],
      "metadata": {
        "colab": {
          "base_uri": "https://localhost:8080/"
        },
        "id": "DE64f1cLJxtO",
        "outputId": "4f31ea1a-9edf-43d5-cf29-9a76f33fca75"
      },
      "execution_count": 207,
      "outputs": [
        {
          "output_type": "stream",
          "name": "stdout",
          "text": [
            "         id    target\n",
            "0         0  0.064976\n",
            "1         2  0.574196\n",
            "2         3  0.997821\n",
            "3         9  0.971281\n",
            "4        11  0.995779\n",
            "...     ...       ...\n",
            "3258  10861  0.845373\n",
            "3259  10865  0.997646\n",
            "3260  10868  0.994799\n",
            "3261  10874  0.971458\n",
            "3262  10875  0.948157\n",
            "\n",
            "[3263 rows x 2 columns]\n"
          ]
        }
      ]
    },
    {
      "cell_type": "code",
      "source": [
        "model.predict()"
      ],
      "metadata": {
        "colab": {
          "base_uri": "https://localhost:8080/",
          "height": 345
        },
        "id": "aWyUQeRTQBzY",
        "outputId": "c861d775-f15f-4c5a-cb79-2e3c053b115c"
      },
      "execution_count": 119,
      "outputs": [
        {
          "output_type": "error",
          "ename": "ValueError",
          "evalue": "ignored",
          "traceback": [
            "\u001b[0;31m---------------------------------------------------------------------------\u001b[0m",
            "\u001b[0;31mValueError\u001b[0m                                Traceback (most recent call last)",
            "\u001b[0;32m<ipython-input-119-f2210b252e9c>\u001b[0m in \u001b[0;36m<module>\u001b[0;34m()\u001b[0m\n\u001b[0;32m----> 1\u001b[0;31m \u001b[0mmodel\u001b[0m\u001b[0;34m.\u001b[0m\u001b[0mpredict\u001b[0m\u001b[0;34m(\u001b[0m\u001b[0mtesting_padded\u001b[0m\u001b[0;34m)\u001b[0m\u001b[0;34m\u001b[0m\u001b[0;34m\u001b[0m\u001b[0m\n\u001b[0m",
            "\u001b[0;32m/usr/local/lib/python3.7/dist-packages/keras/utils/traceback_utils.py\u001b[0m in \u001b[0;36merror_handler\u001b[0;34m(*args, **kwargs)\u001b[0m\n\u001b[1;32m     65\u001b[0m     \u001b[0;32mexcept\u001b[0m \u001b[0mException\u001b[0m \u001b[0;32mas\u001b[0m \u001b[0me\u001b[0m\u001b[0;34m:\u001b[0m  \u001b[0;31m# pylint: disable=broad-except\u001b[0m\u001b[0;34m\u001b[0m\u001b[0;34m\u001b[0m\u001b[0m\n\u001b[1;32m     66\u001b[0m       \u001b[0mfiltered_tb\u001b[0m \u001b[0;34m=\u001b[0m \u001b[0m_process_traceback_frames\u001b[0m\u001b[0;34m(\u001b[0m\u001b[0me\u001b[0m\u001b[0;34m.\u001b[0m\u001b[0m__traceback__\u001b[0m\u001b[0;34m)\u001b[0m\u001b[0;34m\u001b[0m\u001b[0;34m\u001b[0m\u001b[0m\n\u001b[0;32m---> 67\u001b[0;31m       \u001b[0;32mraise\u001b[0m \u001b[0me\u001b[0m\u001b[0;34m.\u001b[0m\u001b[0mwith_traceback\u001b[0m\u001b[0;34m(\u001b[0m\u001b[0mfiltered_tb\u001b[0m\u001b[0;34m)\u001b[0m \u001b[0;32mfrom\u001b[0m \u001b[0;32mNone\u001b[0m\u001b[0;34m\u001b[0m\u001b[0;34m\u001b[0m\u001b[0m\n\u001b[0m\u001b[1;32m     68\u001b[0m     \u001b[0;32mfinally\u001b[0m\u001b[0;34m:\u001b[0m\u001b[0;34m\u001b[0m\u001b[0;34m\u001b[0m\u001b[0m\n\u001b[1;32m     69\u001b[0m       \u001b[0;32mdel\u001b[0m \u001b[0mfiltered_tb\u001b[0m\u001b[0;34m\u001b[0m\u001b[0;34m\u001b[0m\u001b[0m\n",
            "\u001b[0;32m/usr/local/lib/python3.7/dist-packages/keras/engine/training.py\u001b[0m in \u001b[0;36mpredict\u001b[0;34m(self, x, batch_size, verbose, steps, callbacks, max_queue_size, workers, use_multiprocessing)\u001b[0m\n\u001b[1;32m   1995\u001b[0m             \u001b[0mcallbacks\u001b[0m\u001b[0;34m.\u001b[0m\u001b[0mon_predict_batch_end\u001b[0m\u001b[0;34m(\u001b[0m\u001b[0mend_step\u001b[0m\u001b[0;34m,\u001b[0m \u001b[0;34m{\u001b[0m\u001b[0;34m'outputs'\u001b[0m\u001b[0;34m:\u001b[0m \u001b[0mbatch_outputs\u001b[0m\u001b[0;34m}\u001b[0m\u001b[0;34m)\u001b[0m\u001b[0;34m\u001b[0m\u001b[0;34m\u001b[0m\u001b[0m\n\u001b[1;32m   1996\u001b[0m       \u001b[0;32mif\u001b[0m \u001b[0mbatch_outputs\u001b[0m \u001b[0;32mis\u001b[0m \u001b[0;32mNone\u001b[0m\u001b[0;34m:\u001b[0m\u001b[0;34m\u001b[0m\u001b[0;34m\u001b[0m\u001b[0m\n\u001b[0;32m-> 1997\u001b[0;31m         raise ValueError('Unexpected result of `predict_function` '\n\u001b[0m\u001b[1;32m   1998\u001b[0m                          \u001b[0;34m'(Empty batch_outputs). Please use '\u001b[0m\u001b[0;34m\u001b[0m\u001b[0;34m\u001b[0m\u001b[0m\n\u001b[1;32m   1999\u001b[0m                          \u001b[0;34m'`Model.compile(..., run_eagerly=True)`, or '\u001b[0m\u001b[0;34m\u001b[0m\u001b[0;34m\u001b[0m\u001b[0m\n",
            "\u001b[0;31mValueError\u001b[0m: Unexpected result of `predict_function` (Empty batch_outputs). Please use `Model.compile(..., run_eagerly=True)`, or `tf.config.run_functions_eagerly(True)` for more information of where went wrong, or file a issue/bug to `tf.keras`."
          ]
        }
      ]
    }
  ]
}